{
 "cells": [
  {
   "cell_type": "code",
   "execution_count": null,
   "id": "206059d8",
   "metadata": {},
   "outputs": [
    {
     "name": "stdout",
     "output_type": "stream",
     "text": [
      "\n",
      "💬 Welcome to Stock AI Analyst\n",
      "\n",
      "✅ Context Initialized:\n",
      "  Symbol: TSLA\n",
      "  User Question: Brief me if tesla stocks are a better option today or amazon stocks, also explain tesla stocks' trends to me\n",
      "\n",
      "🔍 [DataAgent] Fetching stock data for TSLA...\n",
      "✅ Stock data fetched and saved.\n",
      "🗞️ [NewsAgent] Fetching news for TSLA...\n",
      "✅ Retrieved 10 headlines.\n",
      "🧠 [SentimentAgent] Using FinBERT for financial sentiment analysis...\n",
      "✅ Overall Financial Sentiment: POSITIVE\n",
      "📊 [AnalyzerAgent] Running DeepSeek LLM for market insight...\n",
      "🔎 Raw LLM Output:\n",
      " ```json\n",
      "{\n",
      "  \"full_report\": \"Given the latest data and positive sentiment, Tesla's stock (TSLA) appears to be a better option today compared to Amazon, as it shows a consistent upward trend with three consecutive weeks of gains. The stock has been trading within a tight range recently, with strong support around $298 and resistance near $316. The positive news sentiment, including Tesla's stock surge and China's car sales growth, further supports this outlook. However, Amazon's stock data was not provided for a direct comparison. Tesla's trend is currently bullish, but investors should remain cautious of potential volatility.\",\n",
      "  \"summary\": \"Tesla's stock (TSLA) has shown a bullish trend with three consecutive weeks of gains, trading between $288 and $316. The stock has strong support around $298 and resistance near $316, with positive news sentiment driving recent performance.\",\n",
      "  \"trend\": \"bullish\",\n",
      "  \"risk_factors\": [\n",
      "    \"Potential market volatility due to macroeconomic factors\",\n",
      "    \"Competition from other EV manufacturers like BYD\",\n",
      "    \"Regulatory changes impacting the automotive industry\"\n",
      "  ],\n",
      "  \"recommended_chart\": \"candlestick\",\n",
      "  \"confidence\": 75\n",
      "}\n",
      "```\n",
      "✅ LLM analysis complete.\n",
      "\n",
      "📊 Final Analysis Result:\n",
      "{\n",
      "  \"full_report\": \"Given the latest data and positive sentiment, Tesla's stock (TSLA) appears to be a better option today compared to Amazon, as it shows a consistent upward trend with three consecutive weeks of gains. The stock has been trading within a tight range recently, with strong support around $298 and resistance near $316. The positive news sentiment, including Tesla's stock surge and China's car sales growth, further supports this outlook. However, Amazon's stock data was not provided for a direct comparison. Tesla's trend is currently bullish, but investors should remain cautious of potential volatility.\",\n",
      "  \"summary\": \"Tesla's stock (TSLA) has shown a bullish trend with three consecutive weeks of gains, trading between $288 and $316. The stock has strong support around $298 and resistance near $316, with positive news sentiment driving recent performance.\",\n",
      "  \"trend\": \"bullish\",\n",
      "  \"risk_factors\": [\n",
      "    \"Potential market volatility due to macroeconomic factors\",\n",
      "    \"Competition from other EV manufacturers like BYD\",\n",
      "    \"Regulatory changes impacting the automotive industry\"\n",
      "  ],\n",
      "  \"recommended_chart\": \"candlestick\",\n",
      "  \"confidence\": 75\n",
      "}\n"
     ]
    },
    {
     "ename": "TypeError",
     "evalue": "run_dashboard_agent() missing 1 required positional argument: 'config'",
     "output_type": "error",
     "traceback": [
      "\u001b[1;31m---------------------------------------------------------------------------\u001b[0m",
      "\u001b[1;31mTypeError\u001b[0m                                 Traceback (most recent call last)",
      "Cell \u001b[1;32mIn[2], line 37\u001b[0m\n\u001b[0;32m     34\u001b[0m \u001b[38;5;28mprint\u001b[39m(\u001b[38;5;124m\"\u001b[39m\u001b[38;5;130;01m\\n\u001b[39;00m\u001b[38;5;124m📊 Final Analysis Result:\u001b[39m\u001b[38;5;124m\"\u001b[39m)\n\u001b[0;32m     35\u001b[0m \u001b[38;5;28mprint\u001b[39m(json\u001b[38;5;241m.\u001b[39mdumps(context[\u001b[38;5;124m\"\u001b[39m\u001b[38;5;124manalysis_result\u001b[39m\u001b[38;5;124m\"\u001b[39m], indent\u001b[38;5;241m=\u001b[39m\u001b[38;5;241m2\u001b[39m))\n\u001b[1;32m---> 37\u001b[0m context \u001b[38;5;241m=\u001b[39m run_dashboard_agent(context)\n",
      "\u001b[1;31mTypeError\u001b[0m: run_dashboard_agent() missing 1 required positional argument: 'config'"
     ]
    }
   ],
   "source": [
    "import json\n",
    "from utils.helpers import load_config\n",
    "from agents.data_agent import run_data_agent\n",
    "from agents.news_agent import run_news_agent\n",
    "from agents.sentiment_agent import run_sentiment_agent\n",
    "from agents.analyzer_agent import run_analyzer_agent\n",
    "from agents.dashboard_agent import run_dashboard_agent\n",
    "\n",
    "def initialize_context():\n",
    "    config = load_config()\n",
    "\n",
    "    print(\"\\n💬 Welcome to Stock AI Analyst\")\n",
    "    user_symbol = input(f\"Enter stock symbol [{config['default_symbol']}]: \") or config['default_symbol']\n",
    "    user_query = input(f\"Enter your stock-related question:\\n→ \") or config['default_user_query']\n",
    "\n",
    "    context = {\n",
    "        \"symbol\": user_symbol.upper(),\n",
    "        \"user_query\": user_query\n",
    "    }\n",
    "\n",
    "    print(\"\\n✅ Context Initialized:\")\n",
    "    print(f\"  Symbol: {context['symbol']}\")\n",
    "    print(f\"  User Question: {context['user_query']}\\n\")\n",
    "\n",
    "    return context, config\n",
    "\n",
    "# ✅ Main entry point\n",
    "if __name__ == \"__main__\":\n",
    "    context, config = initialize_context()\n",
    "    context = run_data_agent(context, config)\n",
    "    context = run_news_agent(context, config)\n",
    "    context = run_sentiment_agent(context)\n",
    "    context = run_analyzer_agent(context, config)\n",
    "    print(\"\\n📊 Final Analysis Result:\")\n",
    "    print(json.dumps(context[\"analysis_result\"], indent=2))\n",
    "\n",
    "    context = run_dashboard_agent(context, config)\n",
    "    # We will pass `context` to the first agent next (DataAgent)"
   ]
  },
  {
   "cell_type": "code",
   "execution_count": 1,
   "id": "48e04de4",
   "metadata": {},
   "outputs": [
    {
     "ename": "AttributeError",
     "evalue": "module 'ta' has no attribute '__version__'",
     "output_type": "error",
     "traceback": [
      "\u001b[1;31m---------------------------------------------------------------------------\u001b[0m",
      "\u001b[1;31mAttributeError\u001b[0m                            Traceback (most recent call last)",
      "Cell \u001b[1;32mIn[1], line 2\u001b[0m\n\u001b[0;32m      1\u001b[0m \u001b[38;5;28;01mimport\u001b[39;00m \u001b[38;5;21;01mta\u001b[39;00m\n\u001b[1;32m----> 2\u001b[0m \u001b[38;5;28mprint\u001b[39m(ta\u001b[38;5;241m.\u001b[39m__version__)\n",
      "\u001b[1;31mAttributeError\u001b[0m: module 'ta' has no attribute '__version__'"
     ]
    }
   ],
   "source": [
    "import ta\n",
    "print(ta.__version__)"
   ]
  },
  {
   "cell_type": "code",
   "execution_count": null,
   "id": "70a9f92f",
   "metadata": {},
   "outputs": [],
   "source": []
  }
 ],
 "metadata": {
  "kernelspec": {
   "display_name": "base",
   "language": "python",
   "name": "python3"
  },
  "language_info": {
   "codemirror_mode": {
    "name": "ipython",
    "version": 3
   },
   "file_extension": ".py",
   "mimetype": "text/x-python",
   "name": "python",
   "nbconvert_exporter": "python",
   "pygments_lexer": "ipython3",
   "version": "3.12.4"
  }
 },
 "nbformat": 4,
 "nbformat_minor": 5
}
